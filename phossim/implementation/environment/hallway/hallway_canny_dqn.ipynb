{
 "cells": [
  {
   "cell_type": "code",
   "execution_count": 1,
   "metadata": {
    "pycharm": {
     "name": "#%%\n"
    }
   },
   "outputs": [],
   "source": [
    "import math\n",
    "import datetime\n",
    "import random\n",
    "import numpy as np\n",
    "import matplotlib\n",
    "import matplotlib.pyplot as plt\n",
    "from itertools import count\n",
    "from IPython.display import Audio\n",
    "\n",
    "import torch\n",
    "import torch.nn as nn\n",
    "import torch.optim as optim\n",
    "import torch.nn.functional as F\n",
    "import torchvision.transforms as T\n",
    "from torchsummary import summary\n",
    "\n",
    "import cv2\n",
    "\n",
    "import pyClientRLagentPytorch\n",
    "import utils"
   ]
  },
  {
   "cell_type": "code",
   "execution_count": 2,
   "metadata": {
    "pycharm": {
     "name": "#%%\n"
    }
   },
   "outputs": [],
   "source": [
    "# set up matplotlib\n",
    "is_ipython = 'inline' in matplotlib.get_backend()\n",
    "if is_ipython:\n",
    "    from IPython import display\n",
    "\n",
    "plt.ion()\n",
    "\n",
    "# if gpu is to be used\n",
    "device = torch.device(\"cuda\" if torch.cuda.is_available() else \"cpu\")"
   ]
  },
  {
   "cell_type": "code",
   "execution_count": 3,
   "metadata": {
    "pycharm": {
     "name": "#%%\n"
    }
   },
   "outputs": [],
   "source": [
    "#model\n",
    "class DQN(nn.Module):\n",
    "\n",
    "    def __init__(self, h, w, input_channels, outputs):\n",
    "        super(DQN, self).__init__()\n",
    "        self.conv1 = nn.Conv2d(input_channels, 16, kernel_size=5, stride=2)\n",
    "        self.bn1 = nn.BatchNorm2d(16)\n",
    "        self.conv2 = nn.Conv2d(16, 32, kernel_size=5, stride=2)\n",
    "        self.bn2 = nn.BatchNorm2d(32)\n",
    "        self.conv3 = nn.Conv2d(32, 32, kernel_size=5, stride=2)\n",
    "        self.bn3 = nn.BatchNorm2d(32)\n",
    "\n",
    "        # Number of Linear input connections depends on output of conv2d layers\n",
    "        # and therefore the input image size, so compute it.\n",
    "        def conv2d_size_out(size, kernel_size = 5, stride = 2):\n",
    "            return (size - (kernel_size - 1) - 1) // stride  + 1\n",
    "        convw = conv2d_size_out(conv2d_size_out(conv2d_size_out(w)))\n",
    "        convh = conv2d_size_out(conv2d_size_out(conv2d_size_out(h)))\n",
    "        linear_input_size = convw * convh * 32\n",
    "        self.head = nn.Linear(linear_input_size, outputs)\n",
    "\n",
    "    # Called with either one element to determine next action, or a batch\n",
    "    # during optimization. Returns tensor([[left0exp,right0exp]...]).\n",
    "    def forward(self, x):\n",
    "        x = F.relu(self.bn1(self.conv1(x)))\n",
    "        x = F.relu(self.bn2(self.conv2(x)))\n",
    "        x = F.relu(self.bn3(self.conv3(x)))\n",
    "        return self.head(x.view(x.size(0), -1))\n",
    "\n",
    "# class DQN(nn.Module):\n",
    "#     def __init__(self, input_channels, outputs):\n",
    "#         in_channels=input_channels\n",
    "#         num_actions=outputs\n",
    "#         super(DQN, self).__init__()\n",
    "#         self.conv1 = nn.Conv2d(in_channels, 32, kernel_size=8, stride=3)\n",
    "#         self.bn1 = nn.BatchNorm2d(32)\n",
    "#         self.conv2 = nn.Conv2d(32, 32, kernel_size=6, stride=2)\n",
    "#         self.bn2 = nn.BatchNorm2d(32)\n",
    "#         self.conv3 = nn.Conv2d(32, 64, kernel_size=4, stride=2)\n",
    "#         self.bn3 = nn.BatchNorm2d(64)\n",
    "#         self.conv4 = nn.Conv2d(64, 64, kernel_size=3, stride=1)\n",
    "#         self.bn4 = nn.BatchNorm2d(64)\n",
    "#         self.fc5 = nn.Linear(6 * 6 * 64, 512)\n",
    "#         self.fc6 = nn.Linear(512, num_actions)\n",
    "\n",
    "#     def forward(self, x):\n",
    "#         x = F.relu(self.bn1(self.conv1(x)))\n",
    "#         x = F.relu(self.bn2(self.conv2(x)))\n",
    "#         x = F.relu(self.bn3(self.conv3(x)))\n",
    "#         x = F.relu(self.bn4(self.conv4(x)))\n",
    "#         x = F.relu(self.fc5(x.view(x.size(0), -1)))\n",
    "#         return self.fc6(x) "
   ]
  },
  {
   "cell_type": "code",
   "execution_count": 4,
   "metadata": {
    "pycharm": {
     "name": "#%%\n"
    }
   },
   "outputs": [],
   "source": [
    "#utilities\n",
    "#sound wave to be played when training is complete\n",
    "wave= np.sin(1.6*np.pi*400*np.arange(10000)/10000)\n",
    "\n",
    "def make_stack(frame, stack_size):\n",
    "    stack_of_frames_initial = np.zeros((size, size, stack_size))\n",
    "    for i in range(stack_size):\n",
    "        stack_of_frames_initial[:,:,i] = frame\n",
    "    return stack_of_frames_initial\n",
    "\n",
    "def update_stack(stack, new_frame, stack_size):\n",
    "    stack2 = stack.copy()\n",
    "    for i in range(stack_size - 1):\n",
    "        stack[:,:,i] = stack2[:,:,i+1].copy()\n",
    "    stack[:,:,stack_size-1] = new_frame\n",
    "    return stack\n",
    "\n",
    "def select_action(state):\n",
    "    return test_net(state).max(1)[1].view(1, 1)\n",
    "\n",
    "def state_to_phosphenes(raw_state, phosphenes_input, sigma, threshold_high, threshold_low, phosphene_resolution, simulator):\n",
    "    image_array = environment.state2usableArray(raw_state)    \n",
    "    ksize = 11 #np.round(4*sigma)+1\n",
    "    blurred = cv2.GaussianBlur(image_array,(ksize,ksize),sigma)\n",
    "    canny = cv2.Canny(blurred,threshold_low,threshold_high)   \n",
    "    phosphenes = simulator(activation_mask=canny)\n",
    "    if phosphenes_input:\n",
    "        frame = phosphenes\n",
    "    else:\n",
    "        frame = cv2.cvtColor(image_array, cv2.COLOR_BGR2GRAY)\n",
    "        frame = frame.astype('float32')\n",
    "    # normalize to the range 0-1\n",
    "    frame /= 255.0\n",
    "    return image_array, blurred, canny, phosphenes, frame\n",
    "\n",
    "def record_episode(result, image_array, blurred, canny, phosphenes, end, fps, SIGMA, threshold_high, threshold_low, phosphene_resolution, frame_size, box_bumps, wall_bumps_r, loops_r, steps_taken, last_loop, ep):\n",
    "    outframe = np.zeros((frame_size[0],frame_size[1],3)).astype('uint8')\n",
    "    individual_size = int(frame_size[0]/2)\n",
    "    image_array = cv2.cvtColor(image_array, cv2.COLOR_BGR2RGB)\n",
    "    image_array = cv2.resize(image_array, (individual_size, individual_size))\n",
    "    image_array = cv2.putText(image_array, (\"Boxes hit: \" + str(box_bumps)),(20, 40), 2, 1, (255, 255, 255), 1)\n",
    "    image_array = cv2.putText(image_array, (\"Wall bumps: \" + str(wall_bumps_r)),(20, 70), 2, 1, (255, 255, 255), 1)\n",
    "    image_array = cv2.putText(image_array, (\"Loops: \" + str(loops_r)),(20, 100), 2, 1, (255, 255, 255), 1)\n",
    "    image_array = cv2.putText(image_array, (\"Steps taken: \" + str(steps_taken)),(20, 130), 2, 1, (255, 255, 255), 1)\n",
    "    blurred = cv2.cvtColor(blurred, cv2.COLOR_BGR2RGB)\n",
    "    blurred = cv2.resize(blurred,(individual_size, individual_size))\n",
    "    blurred = cv2.putText(blurred, (\"Sigma: \" + str(SIGMA)),(20,individual_size - 40), 2, 1, (255, 255, 255), 1)\n",
    "    canny = cv2.resize(canny, (individual_size, individual_size))\n",
    "    phos = (254*phosphenes/phosphenes.max()).astype('uint8')\n",
    "    phos = cv2.resize(phos, (individual_size, individual_size))\n",
    "    for c in range(3):\n",
    "        outframe[:individual_size,:individual_size,c] = image_array[:,:,c]\n",
    "        outframe[:individual_size,individual_size:frame_size[0],c] = blurred[:,:,c]\n",
    "        outframe[individual_size:,:individual_size,c] = canny\n",
    "        outframe[individual_size:,individual_size:frame_size[0],c] = phos\n",
    "    outframe = cv2.putText(outframe, (\"T_high: \" + str(threshold_high)+\", T_low: \"+ str(threshold_low)),(20,individual_size + 40), 2, 1, (255, 255, 255), 1)\n",
    "    outframe = cv2.putText(outframe, (\"Phosphene res: (\" + str(phosphene_resolution[0])+\",\"+ str(phosphene_resolution[1])+ \")\"),(individual_size + 20,individual_size + 40), 2, 1, (255, 255, 255), 1)\n",
    "    result.write(outframe)\n",
    "    if end == 2 and last_loop:       \n",
    "        for i in range(int(fps *4)):\n",
    "            result.write(outframe)\n",
    "    \n",
    "def get_current_date():\n",
    "    date = datetime.datetime.now()\n",
    "    return date.strftime(\"%Y-%m-%d_%H-%M\")\n",
    "\n",
    "def get_model_name(v_b, v_l_w, v_t, i_e):\n",
    "    model_name_string = get_current_date()+\"_Phos\"+str(PHOSPHENES)+\"_Res\"+str(phosphene_resolution[0])+\"_Ep\"+\\\n",
    "        str(i_e)+\"_BoxBumps\"+str(v_b)+\"_WallBumpsLoops\"+str(v_l_w)+\"_Steps\"+str(v_t)+\".pth\"\n",
    "    return model_name_string\n"
   ]
  },
  {
   "cell_type": "code",
   "execution_count": 5,
   "metadata": {
    "pycharm": {
     "name": "#%%\n"
    }
   },
   "outputs": [
    {
     "name": "stdout",
     "output_type": "stream",
     "text": [
      "----------------------------------------------------------------\n",
      "        Layer (type)               Output Shape         Param #\n",
      "================================================================\n",
      "            Conv2d-1           [-1, 16, 62, 62]           1,616\n",
      "       BatchNorm2d-2           [-1, 16, 62, 62]              32\n",
      "            Conv2d-3           [-1, 32, 29, 29]          12,832\n",
      "       BatchNorm2d-4           [-1, 32, 29, 29]              64\n",
      "            Conv2d-5           [-1, 32, 13, 13]          25,632\n",
      "       BatchNorm2d-6           [-1, 32, 13, 13]              64\n",
      "            Linear-7                    [-1, 3]          16,227\n",
      "================================================================\n",
      "Total params: 56,467\n",
      "Trainable params: 56,467\n",
      "Non-trainable params: 0\n",
      "----------------------------------------------------------------\n",
      "Input size (MB): 0.25\n",
      "Forward/backward pass size (MB): 1.43\n",
      "Params size (MB): 0.22\n",
      "Estimated Total Size (MB): 1.90\n",
      "----------------------------------------------------------------\n"
     ]
    }
   ],
   "source": [
    "#hyperparameters\n",
    "PHOSPHENES = True #use the phosphene representation as input or not\n",
    "SIGMA = 1.2 \n",
    "threshold_high = 50 \n",
    "threshold_low = int(0.5 * threshold_high)\n",
    "phosphene_resolution= (26,26)\n",
    "RECORD_EPISODES = False #does not work with 128 size yet\n",
    "fps = 8\n",
    "\n",
    "size       = 128        # screenshot size\n",
    "screen_height = screen_width = size\n",
    "\n",
    "frame_width = 1024\n",
    "frame_height = 1024\n",
    "frame_size = (frame_width, frame_height)\n",
    "\n",
    "if RECORD_EPISODES:\n",
    "    result = cv2.VideoWriter(\"./Models/\" + 'RLAGENTPhosphenesExperimentFrameStacking.avi',\n",
    "                         cv2.VideoWriter_fourcc(*'MJPG'),\n",
    "                         fps, frame_size)\n",
    "\n",
    "stack_size = 4\n",
    "\n",
    "input_channels = stack_size\n",
    "\n",
    "n_actions = 3\n",
    "\n",
    "FOLDER = \"2021-02-26_16-30_PhosTrue_Res26_FrameStacking_atari\"\n",
    "MODELNAME = \"2021-02-26_17-45_PhosTrue_Res26_Ep320_BoxBumps8_WallBumps7_Loops2_Steps1790_TotalErrors17_Improved\"\n",
    "PATH = \"./Models/\" + FOLDER +\"/\"+ MODELNAME +\".pth\"\n",
    "test_net = DQN(size, size, input_channels, n_actions).to(device)\n",
    "test_net.load_state_dict(torch.load(PATH))\n",
    "test_net.eval()\n",
    "summary(test_net, (input_channels, size, size))\n",
    "\n",
    "steps_done = 0"
   ]
  },
  {
   "cell_type": "code",
   "execution_count": 6,
   "metadata": {
    "pycharm": {
     "name": "#%%\n"
    }
   },
   "outputs": [],
   "source": [
    "# Unity environment\n",
    "ip         = \"127.0.0.1\" # Ip address that the TCP/IP interface listens to\n",
    "port       = 13000       # Port number that the TCP/IP interface listens to\n",
    "timescale  = 1           # update step scale for unity\n",
    "\n",
    "screen_height = screen_width = size\n",
    "\n",
    "environment = pyClientRLagentPytorch.Environment(ip = ip, port = port, size = size, timescale = timescale) "
   ]
  },
  {
   "cell_type": "code",
   "execution_count": 7,
   "metadata": {
    "pycharm": {
     "name": "#%%\n"
    }
   },
   "outputs": [
    {
     "name": "stdout",
     "output_type": "stream",
     "text": [
      "Loop: 1\n",
      "Loop: 2\n",
      "Loop: 3\n",
      "Loop: 4\n",
      "Loop: 5\n"
     ]
    }
   ],
   "source": [
    "test_episodes = 5\n",
    "\n",
    "random_np_seed_test = 32423\n",
    "last_loop = False\n",
    "box_bump_count = 0\n",
    "wall_bump_count = 0\n",
    "loop_count = 0\n",
    "total_steps_taken = 0\n",
    "total_reward = 0\n",
    "\n",
    "environment.reset() # This reset ensures the test seed will be reset to its first value the next time environment.reset_test() is used\n",
    "np.random.seed(random_np_seed_test)#seed used for the generation of the phosphene simulators for the test session\n",
    "for ep in range(test_episodes):\n",
    "    wall_piece_hit = False\n",
    "    simulator = utils.phosphene_simulator(phosphene_resolution, (screen_height, screen_width)) \n",
    "    print(\"Loop: \"+str(ep + 1))\n",
    "    steps_not_moved_forward = 0\n",
    "    end, reward, state_raw = environment.reset_test() #resets the test environment and the first time also sets the random seed\n",
    "    original, blurred, canny, phosphene_frame, frame = state_to_phosphenes(state_raw, PHOSPHENES, SIGMA, threshold_high, threshold_low, phosphene_resolution, simulator)\n",
    "    \n",
    "    stack_of_frames = make_stack(frame, stack_size)\n",
    "    state = stack_of_frames.transpose((2, 0, 1))\n",
    "    state = torch.from_numpy(state).unsqueeze(0).to(device, dtype=torch.float)\n",
    "    \n",
    "    for t in count():\n",
    "        # Select and perform an action\n",
    "        action = select_action(state)\n",
    "        move = action.item()\n",
    "\n",
    "        if move == 0:\n",
    "            steps_not_moved_forward = 0\n",
    "        else:\n",
    "            steps_not_moved_forward += 1\n",
    "\n",
    "        if steps_not_moved_forward >= 11:\n",
    "            loop_count += 1\n",
    "            move = 0\n",
    "            steps_not_moved_forward = 0\n",
    "\n",
    "        end, reward, next_state_raw = environment.step_test(move)\n",
    "\n",
    "        original, blurred, canny, phosphene_frame, next_frame = state_to_phosphenes(next_state_raw, PHOSPHENES, SIGMA, threshold_high, threshold_low, phosphene_resolution, simulator)\n",
    "        stack_of_frames = update_stack(stack_of_frames, next_frame, stack_size)\n",
    "        state = stack_of_frames.transpose((2, 0, 1))\n",
    "        state = torch.from_numpy(state).unsqueeze(0).to(device, dtype=torch.float)\n",
    "                \n",
    "        if RECORD_EPISODES:\n",
    "            if ep == test_episodes -1:\n",
    "                last_loop = True\n",
    "            record_episode(result, original, blurred, canny, phosphene_frame, end, fps, SIGMA, threshold_high, threshold_low, phosphene_resolution, frame_size, box_bump_count, wall_bump_count, loop_count, t + total_steps_taken, last_loop, ep)\n",
    "\n",
    "        if reward == 200:\n",
    "            box_bump_count +=1\n",
    "        if reward == 150:\n",
    "            if wall_piece_hit == False:\n",
    "                wall_bump_count += 1\n",
    "                wall_piece_hit = True\n",
    "        else:\n",
    "            wall_piece_hit = False\n",
    "        \n",
    "        if reward > 100:\n",
    "            total_reward += -(reward -100)\n",
    "        else:\n",
    "            total_reward += reward\n",
    "        \n",
    "        if end == 2:\n",
    "            total_steps_taken += t\n",
    "            break\n",
    "\n",
    "if RECORD_EPISODES:\n",
    "    result.release()\n",
    "    cv2.destroyAllWindows()"
   ]
  },
  {
   "cell_type": "code",
   "execution_count": 8,
   "metadata": {
    "pycharm": {
     "name": "#%%\n"
    }
   },
   "outputs": [
    {
     "name": "stdout",
     "output_type": "stream",
     "text": [
      "Average box bumps: 6.2\n",
      "Average wall bumps: 3.8\n",
      "Average loops: 4.2\n",
      "Average steps taken: 737.6\n",
      "Average reward: 25681.0\n",
      "\n"
     ]
    },
    {
     "data": {
      "text/html": [
       "\n",
       "                <audio  controls=\"controls\" autoplay=\"autoplay\">\n",
       "                    <source src=\"data:audio/wav;base64,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\" type=\"audio/wav\" />\n",
       "                    Your browser does not support the audio element.\n",
       "                </audio>\n",
       "              "
      ],
      "text/plain": [
       "<IPython.lib.display.Audio object>"
      ]
     },
     "execution_count": 8,
     "metadata": {},
     "output_type": "execute_result"
    }
   ],
   "source": [
    "box_bump_average = box_bump_count/test_episodes\n",
    "wall_bump_average = wall_bump_count/test_episodes\n",
    "loop_average = loop_count/test_episodes\n",
    "average_steps_taken = total_steps_taken/test_episodes\n",
    "average_reward = total_reward/test_episodes\n",
    "print(\"Average box bumps: \" + str(box_bump_average))\n",
    "print(\"Average wall bumps: \" + str(wall_bump_average))\n",
    "print(\"Average loops: \" + str(loop_average))\n",
    "print(\"Average steps taken: \" + str(average_steps_taken))\n",
    "print(\"Average reward: \" + str(average_reward)+ '\\n')\n",
    "#play sound when done\n",
    "Audio(wave, rate=10000, autoplay=True)"
   ]
  },
  {
   "cell_type": "code",
   "execution_count": 9,
   "metadata": {
    "pycharm": {
     "name": "#%%\n"
    }
   },
   "outputs": [
    {
     "name": "stdout",
     "output_type": "stream",
     "text": [
      "[   26.      0.      6.2     3.8     4.2   737.6 25681. ]\n"
     ]
    }
   ],
   "source": [
    "complex_hallway = 0 # 0 is false, 1 is true\n",
    "\n",
    "if PHOSPHENES:\n",
    "    phos_res = phosphene_resolution[0]\n",
    "else:\n",
    "    phos_res = 0\n",
    "\n",
    "numpy_array = np.array([phos_res, complex_hallway,box_bump_average, wall_bump_average, loop_average,\\\n",
    "               average_steps_taken,average_reward])\n",
    "np.set_printoptions(suppress=True)\n",
    "print(numpy_array)\n",
    "PATH_stats = \"./Stats/\"+ MODELNAME +\".csv\"\n",
    "np.savetxt(PATH_stats, numpy_array, delimiter=',')"
   ]
  }
 ],
 "metadata": {
  "kernelspec": {
   "display_name": "Python [conda env:masterthesis]",
   "language": "python",
   "name": "conda-env-masterthesis-py"
  },
  "language_info": {
   "codemirror_mode": {
    "name": "ipython",
    "version": 3
   },
   "file_extension": ".py",
   "mimetype": "text/x-python",
   "name": "python",
   "nbconvert_exporter": "python",
   "pygments_lexer": "ipython3",
   "version": "3.8.8"
  }
 },
 "nbformat": 4,
 "nbformat_minor": 2
}